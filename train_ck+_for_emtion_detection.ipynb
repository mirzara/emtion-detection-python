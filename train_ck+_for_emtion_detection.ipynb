{
  "nbformat": 4,
  "nbformat_minor": 0,
  "metadata": {
    "colab": {
      "provenance": []
    },
    "kernelspec": {
      "name": "python3",
      "display_name": "Python 3"
    },
    "language_info": {
      "name": "python"
    }
  },
  "cells": [
    {
      "cell_type": "code",
      "execution_count": null,
      "metadata": {
        "id": "YP2B3Vh0vm8-"
      },
      "outputs": [],
      "source": [
        "!mkdir content"
      ]
    },
    {
      "cell_type": "code",
      "source": [
        "!unzip -q /content/archive.zip -d ./content/ckplus"
      ],
      "metadata": {
        "id": "DL-lOA89v9JL"
      },
      "execution_count": null,
      "outputs": []
    },
    {
      "cell_type": "code",
      "source": [
        "!ls ./content/ckplus"
      ],
      "metadata": {
        "colab": {
          "base_uri": "https://localhost:8080/"
        },
        "id": "1hIuXdBuwYVf",
        "outputId": "31286ed4-31ca-4cec-e3c7-89079f14713e"
      },
      "execution_count": null,
      "outputs": [
        {
          "output_type": "stream",
          "name": "stdout",
          "text": [
            "anger  contempt  disgust  fear\thappy  sadness\tsurprise\n"
          ]
        }
      ]
    },
    {
      "cell_type": "code",
      "source": [
        "import os\n",
        "import cv2\n",
        "import numpy as np\n",
        "from sklearn.model_selection import train_test_split\n",
        "from sklearn.preprocessing import LabelEncoder\n",
        "from tensorflow.keras import layers, models"
      ],
      "metadata": {
        "id": "prAmL93bwtUc"
      },
      "execution_count": null,
      "outputs": []
    },
    {
      "cell_type": "code",
      "source": [
        "def load_images(directory):\n",
        "    images = []\n",
        "    labels = []\n",
        "    for subdir in os.listdir(directory):\n",
        "        label = subdir\n",
        "        for file in os.listdir(os.path.join(directory, subdir)):\n",
        "            img_path = os.path.join(directory, subdir, file)\n",
        "            image = cv2.imread(img_path, cv2.IMREAD_GRAYSCALE)  # Read image in grayscale\n",
        "            image = cv2.resize(image, (48, 48))  # Resize image to 48x48\n",
        "            images.append(image)\n",
        "            labels.append(label)\n",
        "    return np.array(images), np.array(labels)"
      ],
      "metadata": {
        "id": "SUPFyQBBwm3h"
      },
      "execution_count": null,
      "outputs": []
    },
    {
      "cell_type": "code",
      "source": [
        "def preprocess_data(images, labels):\n",
        "    # Normalize pixel values\n",
        "    images = images / 255.0\n",
        "    # Split dataset into training and testing sets\n",
        "    train_images, test_images, train_labels, test_labels = train_test_split(images, labels, test_size=0.2, random_state=42)\n",
        "    return train_images, test_images, train_labels, test_labels"
      ],
      "metadata": {
        "id": "LUe5ut99xQVA"
      },
      "execution_count": null,
      "outputs": []
    },
    {
      "cell_type": "code",
      "source": [
        "def encode_labels(train_labels, test_labels):\n",
        "    label_encoder = LabelEncoder()\n",
        "    train_labels_encoded = label_encoder.fit_transform(train_labels)\n",
        "    test_labels_encoded = label_encoder.transform(test_labels)\n",
        "    return train_labels_encoded, test_labels_encoded"
      ],
      "metadata": {
        "id": "tz1s2UGgxXTY"
      },
      "execution_count": null,
      "outputs": []
    },
    {
      "cell_type": "code",
      "source": [
        "# Step 6: Build the model\n",
        "def build_model(input_shape, num_classes):\n",
        "    model = models.Sequential([\n",
        "        layers.Conv2D(32, (3, 3), activation='relu', input_shape=input_shape),\n",
        "        layers.MaxPooling2D((2, 2)),\n",
        "        layers.Conv2D(64, (3, 3), activation='relu'),\n",
        "        layers.MaxPooling2D((2, 2)),\n",
        "        layers.Conv2D(64, (3, 3), activation='relu'),\n",
        "        layers.Flatten(),\n",
        "        layers.Dense(64, activation='relu'),\n",
        "        layers.Dense(num_classes, activation='softmax')\n",
        "    ])\n",
        "    model.compile(optimizer='adam',\n",
        "                  loss='sparse_categorical_crossentropy',\n",
        "                  metrics=['accuracy'])\n",
        "    return model"
      ],
      "metadata": {
        "id": "kZ9QrS2_xc74"
      },
      "execution_count": null,
      "outputs": []
    },
    {
      "cell_type": "code",
      "source": [
        "# Step 7: Load and preprocess images\n",
        "directory = \"./content/ckplus\"  # Update if necessary\n",
        "images, labels = load_images(directory)"
      ],
      "metadata": {
        "id": "UjDWyC7lxmPG"
      },
      "execution_count": null,
      "outputs": []
    },
    {
      "cell_type": "code",
      "source": [
        "# Step 8: Split the dataset\n",
        "train_images, test_images, train_labels, test_labels = preprocess_data(images, labels)"
      ],
      "metadata": {
        "id": "3x6_-4Hfxqln"
      },
      "execution_count": null,
      "outputs": []
    },
    {
      "cell_type": "code",
      "source": [
        "# Step 9: Prepare labels\n",
        "train_labels_encoded, test_labels_encoded = encode_labels(train_labels, test_labels)"
      ],
      "metadata": {
        "id": "f5qss8jeyBjV"
      },
      "execution_count": null,
      "outputs": []
    },
    {
      "cell_type": "code",
      "source": [
        "# Step 10: Build the model\n",
        "input_shape = (48, 48, 1)  # Image dimensions\n",
        "num_classes = len(np.unique(labels))  # Number of unique emotion classes\n",
        "model = build_model(input_shape, num_classes)"
      ],
      "metadata": {
        "id": "ST2ZPuyLyo6Q"
      },
      "execution_count": null,
      "outputs": []
    },
    {
      "cell_type": "code",
      "source": [
        "# Step 11: Train the model\n",
        "history = model.fit(train_images, train_labels_encoded, epochs=10, batch_size=32, validation_data=(test_images, test_labels_encoded))"
      ],
      "metadata": {
        "colab": {
          "base_uri": "https://localhost:8080/"
        },
        "id": "CsKmZQmtyuy5",
        "outputId": "e32ab6d8-6559-471c-eab3-d5412199efe9"
      },
      "execution_count": null,
      "outputs": [
        {
          "output_type": "stream",
          "name": "stdout",
          "text": [
            "Epoch 1/10\n",
            "25/25 [==============================] - 5s 149ms/step - loss: 1.8394 - accuracy: 0.2347 - val_loss: 1.7901 - val_accuracy: 0.3706\n",
            "Epoch 2/10\n",
            "25/25 [==============================] - 3s 104ms/step - loss: 1.6571 - accuracy: 0.4031 - val_loss: 1.3638 - val_accuracy: 0.6041\n",
            "Epoch 3/10\n",
            "25/25 [==============================] - 2s 95ms/step - loss: 1.1528 - accuracy: 0.6429 - val_loss: 0.8503 - val_accuracy: 0.6751\n",
            "Epoch 4/10\n",
            "25/25 [==============================] - 2s 96ms/step - loss: 0.6872 - accuracy: 0.7589 - val_loss: 0.6380 - val_accuracy: 0.7766\n",
            "Epoch 5/10\n",
            "25/25 [==============================] - 3s 141ms/step - loss: 0.4799 - accuracy: 0.8342 - val_loss: 0.4434 - val_accuracy: 0.8477\n",
            "Epoch 6/10\n",
            "25/25 [==============================] - 3s 101ms/step - loss: 0.3513 - accuracy: 0.8801 - val_loss: 0.3712 - val_accuracy: 0.9036\n",
            "Epoch 7/10\n",
            "25/25 [==============================] - 2s 96ms/step - loss: 0.2286 - accuracy: 0.9133 - val_loss: 0.3559 - val_accuracy: 0.8832\n",
            "Epoch 8/10\n",
            "25/25 [==============================] - 2s 95ms/step - loss: 0.2060 - accuracy: 0.9273 - val_loss: 0.3054 - val_accuracy: 0.9086\n",
            "Epoch 9/10\n",
            "25/25 [==============================] - 2s 95ms/step - loss: 0.1938 - accuracy: 0.9401 - val_loss: 0.2624 - val_accuracy: 0.9289\n",
            "Epoch 10/10\n",
            "25/25 [==============================] - 4s 144ms/step - loss: 0.1393 - accuracy: 0.9605 - val_loss: 0.2738 - val_accuracy: 0.9188\n"
          ]
        }
      ]
    },
    {
      "cell_type": "code",
      "source": [
        "# Step 12: Evaluate the model\n",
        "test_loss, test_acc = model.evaluate(test_images, test_labels_encoded)\n",
        "print('Test accuracy:', test_acc)"
      ],
      "metadata": {
        "colab": {
          "base_uri": "https://localhost:8080/"
        },
        "id": "ZhEgX4HVzBa5",
        "outputId": "ff83e0e0-4f68-4cf8-f25e-9743e82744f1"
      },
      "execution_count": null,
      "outputs": [
        {
          "output_type": "stream",
          "name": "stdout",
          "text": [
            "7/7 [==============================] - 0s 21ms/step - loss: 0.2738 - accuracy: 0.9188\n",
            "Test accuracy: 0.9187816977500916\n"
          ]
        }
      ]
    },
    {
      "cell_type": "code",
      "source": [
        "# Save the trained model\n",
        "model.save(\"/content/trained_model.h5\")"
      ],
      "metadata": {
        "id": "VbMlJnfpzbL5"
      },
      "execution_count": null,
      "outputs": []
    }
  ]
}